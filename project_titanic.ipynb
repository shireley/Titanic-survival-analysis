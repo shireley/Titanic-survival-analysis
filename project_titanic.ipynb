{
 "cells": [
  {
   "cell_type": "markdown",
   "metadata": {},
   "source": [
    "泰坦尼克号乘客数据分析\n",
    "- 项目背景  \n",
    "通过对891名泰坦尼克乘客数据的探索，找出一些生还者具有的特征，或者那些因素与是否生还有关联等。  \n",
    "    \n",
    "- 数据描述  \n",
    "变量名称及其含义：  \n",
    "PassengerId 乘客ID  \n",
    "Survival 是否生还（0 = 否, 1 = 是）  \n",
    "Pclass 船票舱位(1 = 一等, 2 = 二等, 3 = 三等）  \n",
    "Sex 性别\t\n",
    "Age 年纪\t\t\n",
    "Sibsp 在船上的兄弟姐妹或伴侣的人数\t\n",
    "Parch 在船上的父母或者孩子的人数 \t\n",
    "Ticket 船票号码\t  \n",
    "Fare  票价  \n",
    "Cabin 船舱号码  \n",
    "Embarked 登船港 （C = Cherbourg, Q = Queenstown, S = Southampton）\n",
    "\n",
    "- 数据预处理  \n",
    "1.导入数据处理模块，读取数据文件，并查看数据整体情况。Age有177条记录缺失，Cabin有687条记录缺失，Embarked有2条记录缺失。  \n",
    "2.补充缺失值：  \n",
    "a.由于条件限制，对Age的缺失值，采取用取均值±1个标准差的范围内的随机数进行补充的方式，通过前后对比Age的直方图，图形分布大致相同，补充值对数据无不良影响；  \n",
    "b.对Embarked，根据频率，将两个记录补充为“S\";c.由于Cabin缺失记录较多且值很多，无法进行有效补充和分析，可不做处理或删除该变量。  \n",
    "3.删除'Name', 'Ticket', 'Cabin'等无关变量"
   ]
  },
  {
   "cell_type": "code",
   "execution_count": 1,
   "metadata": {
    "collapsed": true
   },
   "outputs": [],
   "source": [
    "import numpy as np\n",
    "import pandas as pd\n",
    "import matplotlib.pyplot as plt\n",
    "import seaborn as sns\n",
    "%matplotlib inline\n",
    "filename = 'c:/Users/shire/Downloads/udacity/project/titanic-data.csv'\n",
    "titanic_df=pd.read_csv(filename)"
   ]
  },
  {
   "cell_type": "code",
   "execution_count": 2,
   "metadata": {
    "scrolled": false
   },
   "outputs": [
    {
     "name": "stdout",
     "output_type": "stream",
     "text": [
      "<class 'pandas.core.frame.DataFrame'>\n",
      "RangeIndex: 891 entries, 0 to 890\n",
      "Data columns (total 12 columns):\n",
      "PassengerId    891 non-null int64\n",
      "Survived       891 non-null int64\n",
      "Pclass         891 non-null int64\n",
      "Name           891 non-null object\n",
      "Sex            891 non-null object\n",
      "Age            714 non-null float64\n",
      "SibSp          891 non-null int64\n",
      "Parch          891 non-null int64\n",
      "Ticket         891 non-null object\n",
      "Fare           891 non-null float64\n",
      "Cabin          204 non-null object\n",
      "Embarked       889 non-null object\n",
      "dtypes: float64(2), int64(5), object(5)\n",
      "memory usage: 83.6+ KB\n"
     ]
    }
   ],
   "source": [
    "titanic_df.info()"
   ]
  },
  {
   "cell_type": "code",
   "execution_count": 3,
   "metadata": {
    "scrolled": true
   },
   "outputs": [
    {
     "data": {
      "text/html": [
       "<div>\n",
       "<style>\n",
       "    .dataframe thead tr:only-child th {\n",
       "        text-align: right;\n",
       "    }\n",
       "\n",
       "    .dataframe thead th {\n",
       "        text-align: left;\n",
       "    }\n",
       "\n",
       "    .dataframe tbody tr th {\n",
       "        vertical-align: top;\n",
       "    }\n",
       "</style>\n",
       "<table border=\"1\" class=\"dataframe\">\n",
       "  <thead>\n",
       "    <tr style=\"text-align: right;\">\n",
       "      <th></th>\n",
       "      <th>PassengerId</th>\n",
       "      <th>Survived</th>\n",
       "      <th>Pclass</th>\n",
       "      <th>Name</th>\n",
       "      <th>Sex</th>\n",
       "      <th>Age</th>\n",
       "      <th>SibSp</th>\n",
       "      <th>Parch</th>\n",
       "      <th>Ticket</th>\n",
       "      <th>Fare</th>\n",
       "      <th>Cabin</th>\n",
       "      <th>Embarked</th>\n",
       "    </tr>\n",
       "  </thead>\n",
       "  <tbody>\n",
       "    <tr>\n",
       "      <th>0</th>\n",
       "      <td>1</td>\n",
       "      <td>0</td>\n",
       "      <td>3</td>\n",
       "      <td>Braund, Mr. Owen Harris</td>\n",
       "      <td>male</td>\n",
       "      <td>22.0</td>\n",
       "      <td>1</td>\n",
       "      <td>0</td>\n",
       "      <td>A/5 21171</td>\n",
       "      <td>7.2500</td>\n",
       "      <td>NaN</td>\n",
       "      <td>S</td>\n",
       "    </tr>\n",
       "    <tr>\n",
       "      <th>1</th>\n",
       "      <td>2</td>\n",
       "      <td>1</td>\n",
       "      <td>1</td>\n",
       "      <td>Cumings, Mrs. John Bradley (Florence Briggs Th...</td>\n",
       "      <td>female</td>\n",
       "      <td>38.0</td>\n",
       "      <td>1</td>\n",
       "      <td>0</td>\n",
       "      <td>PC 17599</td>\n",
       "      <td>71.2833</td>\n",
       "      <td>C85</td>\n",
       "      <td>C</td>\n",
       "    </tr>\n",
       "    <tr>\n",
       "      <th>2</th>\n",
       "      <td>3</td>\n",
       "      <td>1</td>\n",
       "      <td>3</td>\n",
       "      <td>Heikkinen, Miss. Laina</td>\n",
       "      <td>female</td>\n",
       "      <td>26.0</td>\n",
       "      <td>0</td>\n",
       "      <td>0</td>\n",
       "      <td>STON/O2. 3101282</td>\n",
       "      <td>7.9250</td>\n",
       "      <td>NaN</td>\n",
       "      <td>S</td>\n",
       "    </tr>\n",
       "    <tr>\n",
       "      <th>3</th>\n",
       "      <td>4</td>\n",
       "      <td>1</td>\n",
       "      <td>1</td>\n",
       "      <td>Futrelle, Mrs. Jacques Heath (Lily May Peel)</td>\n",
       "      <td>female</td>\n",
       "      <td>35.0</td>\n",
       "      <td>1</td>\n",
       "      <td>0</td>\n",
       "      <td>113803</td>\n",
       "      <td>53.1000</td>\n",
       "      <td>C123</td>\n",
       "      <td>S</td>\n",
       "    </tr>\n",
       "    <tr>\n",
       "      <th>4</th>\n",
       "      <td>5</td>\n",
       "      <td>0</td>\n",
       "      <td>3</td>\n",
       "      <td>Allen, Mr. William Henry</td>\n",
       "      <td>male</td>\n",
       "      <td>35.0</td>\n",
       "      <td>0</td>\n",
       "      <td>0</td>\n",
       "      <td>373450</td>\n",
       "      <td>8.0500</td>\n",
       "      <td>NaN</td>\n",
       "      <td>S</td>\n",
       "    </tr>\n",
       "    <tr>\n",
       "      <th>5</th>\n",
       "      <td>6</td>\n",
       "      <td>0</td>\n",
       "      <td>3</td>\n",
       "      <td>Moran, Mr. James</td>\n",
       "      <td>male</td>\n",
       "      <td>NaN</td>\n",
       "      <td>0</td>\n",
       "      <td>0</td>\n",
       "      <td>330877</td>\n",
       "      <td>8.4583</td>\n",
       "      <td>NaN</td>\n",
       "      <td>Q</td>\n",
       "    </tr>\n",
       "  </tbody>\n",
       "</table>\n",
       "</div>"
      ],
      "text/plain": [
       "   PassengerId  Survived  Pclass  \\\n",
       "0            1         0       3   \n",
       "1            2         1       1   \n",
       "2            3         1       3   \n",
       "3            4         1       1   \n",
       "4            5         0       3   \n",
       "5            6         0       3   \n",
       "\n",
       "                                                Name     Sex   Age  SibSp  \\\n",
       "0                            Braund, Mr. Owen Harris    male  22.0      1   \n",
       "1  Cumings, Mrs. John Bradley (Florence Briggs Th...  female  38.0      1   \n",
       "2                             Heikkinen, Miss. Laina  female  26.0      0   \n",
       "3       Futrelle, Mrs. Jacques Heath (Lily May Peel)  female  35.0      1   \n",
       "4                           Allen, Mr. William Henry    male  35.0      0   \n",
       "5                                   Moran, Mr. James    male   NaN      0   \n",
       "\n",
       "   Parch            Ticket     Fare Cabin Embarked  \n",
       "0      0         A/5 21171   7.2500   NaN        S  \n",
       "1      0          PC 17599  71.2833   C85        C  \n",
       "2      0  STON/O2. 3101282   7.9250   NaN        S  \n",
       "3      0            113803  53.1000  C123        S  \n",
       "4      0            373450   8.0500   NaN        S  \n",
       "5      0            330877   8.4583   NaN        Q  "
      ]
     },
     "execution_count": 3,
     "metadata": {},
     "output_type": "execute_result"
    }
   ],
   "source": [
    "titanic_df.head(6)"
   ]
  },
  {
   "cell_type": "code",
   "execution_count": 4,
   "metadata": {
    "scrolled": false
   },
   "outputs": [
    {
     "data": {
      "text/html": [
       "<div>\n",
       "<style>\n",
       "    .dataframe thead tr:only-child th {\n",
       "        text-align: right;\n",
       "    }\n",
       "\n",
       "    .dataframe thead th {\n",
       "        text-align: left;\n",
       "    }\n",
       "\n",
       "    .dataframe tbody tr th {\n",
       "        vertical-align: top;\n",
       "    }\n",
       "</style>\n",
       "<table border=\"1\" class=\"dataframe\">\n",
       "  <thead>\n",
       "    <tr style=\"text-align: right;\">\n",
       "      <th></th>\n",
       "      <th>PassengerId</th>\n",
       "      <th>Survived</th>\n",
       "      <th>Pclass</th>\n",
       "      <th>Age</th>\n",
       "      <th>SibSp</th>\n",
       "      <th>Parch</th>\n",
       "      <th>Fare</th>\n",
       "    </tr>\n",
       "  </thead>\n",
       "  <tbody>\n",
       "    <tr>\n",
       "      <th>count</th>\n",
       "      <td>891.000000</td>\n",
       "      <td>891.000000</td>\n",
       "      <td>891.000000</td>\n",
       "      <td>714.000000</td>\n",
       "      <td>891.000000</td>\n",
       "      <td>891.000000</td>\n",
       "      <td>891.000000</td>\n",
       "    </tr>\n",
       "    <tr>\n",
       "      <th>mean</th>\n",
       "      <td>446.000000</td>\n",
       "      <td>0.383838</td>\n",
       "      <td>2.308642</td>\n",
       "      <td>29.699118</td>\n",
       "      <td>0.523008</td>\n",
       "      <td>0.381594</td>\n",
       "      <td>32.204208</td>\n",
       "    </tr>\n",
       "    <tr>\n",
       "      <th>std</th>\n",
       "      <td>257.353842</td>\n",
       "      <td>0.486592</td>\n",
       "      <td>0.836071</td>\n",
       "      <td>14.526497</td>\n",
       "      <td>1.102743</td>\n",
       "      <td>0.806057</td>\n",
       "      <td>49.693429</td>\n",
       "    </tr>\n",
       "    <tr>\n",
       "      <th>min</th>\n",
       "      <td>1.000000</td>\n",
       "      <td>0.000000</td>\n",
       "      <td>1.000000</td>\n",
       "      <td>0.420000</td>\n",
       "      <td>0.000000</td>\n",
       "      <td>0.000000</td>\n",
       "      <td>0.000000</td>\n",
       "    </tr>\n",
       "    <tr>\n",
       "      <th>25%</th>\n",
       "      <td>223.500000</td>\n",
       "      <td>0.000000</td>\n",
       "      <td>2.000000</td>\n",
       "      <td>20.125000</td>\n",
       "      <td>0.000000</td>\n",
       "      <td>0.000000</td>\n",
       "      <td>7.910400</td>\n",
       "    </tr>\n",
       "    <tr>\n",
       "      <th>50%</th>\n",
       "      <td>446.000000</td>\n",
       "      <td>0.000000</td>\n",
       "      <td>3.000000</td>\n",
       "      <td>28.000000</td>\n",
       "      <td>0.000000</td>\n",
       "      <td>0.000000</td>\n",
       "      <td>14.454200</td>\n",
       "    </tr>\n",
       "    <tr>\n",
       "      <th>75%</th>\n",
       "      <td>668.500000</td>\n",
       "      <td>1.000000</td>\n",
       "      <td>3.000000</td>\n",
       "      <td>38.000000</td>\n",
       "      <td>1.000000</td>\n",
       "      <td>0.000000</td>\n",
       "      <td>31.000000</td>\n",
       "    </tr>\n",
       "    <tr>\n",
       "      <th>max</th>\n",
       "      <td>891.000000</td>\n",
       "      <td>1.000000</td>\n",
       "      <td>3.000000</td>\n",
       "      <td>80.000000</td>\n",
       "      <td>8.000000</td>\n",
       "      <td>6.000000</td>\n",
       "      <td>512.329200</td>\n",
       "    </tr>\n",
       "  </tbody>\n",
       "</table>\n",
       "</div>"
      ],
      "text/plain": [
       "       PassengerId    Survived      Pclass         Age       SibSp  \\\n",
       "count   891.000000  891.000000  891.000000  714.000000  891.000000   \n",
       "mean    446.000000    0.383838    2.308642   29.699118    0.523008   \n",
       "std     257.353842    0.486592    0.836071   14.526497    1.102743   \n",
       "min       1.000000    0.000000    1.000000    0.420000    0.000000   \n",
       "25%     223.500000    0.000000    2.000000   20.125000    0.000000   \n",
       "50%     446.000000    0.000000    3.000000   28.000000    0.000000   \n",
       "75%     668.500000    1.000000    3.000000   38.000000    1.000000   \n",
       "max     891.000000    1.000000    3.000000   80.000000    8.000000   \n",
       "\n",
       "            Parch        Fare  \n",
       "count  891.000000  891.000000  \n",
       "mean     0.381594   32.204208  \n",
       "std      0.806057   49.693429  \n",
       "min      0.000000    0.000000  \n",
       "25%      0.000000    7.910400  \n",
       "50%      0.000000   14.454200  \n",
       "75%      0.000000   31.000000  \n",
       "max      6.000000  512.329200  "
      ]
     },
     "execution_count": 4,
     "metadata": {},
     "output_type": "execute_result"
    }
   ],
   "source": [
    "titanic_df.describe()"
   ]
  },
  {
   "cell_type": "code",
   "execution_count": 5,
   "metadata": {
    "scrolled": true
   },
   "outputs": [
    {
     "data": {
      "text/plain": [
       "Text(0,0.5,u'Count')"
      ]
     },
     "execution_count": 5,
     "metadata": {},
     "output_type": "execute_result"
    },
    {
     "data": {
      "image/png": "[encoded data removed]",
      "text/plain": [
       "<matplotlib.figure.Figure at 0xedb2c88>"
      ]
     },
     "metadata": {},
     "output_type": "display_data"
    }
   ],
   "source": [
    "#查看年龄分布情况\n",
    "age_plot=titanic_df['Age'].hist(bins=40)\n",
    "age_plot.set_title('Age Distribution')\n",
    "age_plot.set_ylabel('Count')"
   ]
  },
  {
   "cell_type": "code",
   "execution_count": 6,
   "metadata": {
    "scrolled": false
   },
   "outputs": [
    {
     "data": {
      "text/plain": [
       "S    644\n",
       "C    168\n",
       "Q     77\n",
       "Name: Embarked, dtype: int64"
      ]
     },
     "execution_count": 6,
     "metadata": {},
     "output_type": "execute_result"
    }
   ],
   "source": [
    "#查看人员登船港分布情况\n",
    "titanic_df['Embarked'].value_counts()"
   ]
  },
  {
   "cell_type": "code",
   "execution_count": 7,
   "metadata": {},
   "outputs": [
    {
     "name": "stderr",
     "output_type": "stream",
     "text": [
      "C:\\Users\\shire\\Anaconda2\\lib\\site-packages\\ipykernel_launcher.py:3: SettingWithCopyWarning: \n",
      "A value is trying to be set on a copy of a slice from a DataFrame\n",
      "\n",
      "See the caveats in the documentation: http://pandas.pydata.org/pandas-docs/stable/indexing.html#indexing-view-versus-copy\n",
      "  This is separate from the ipykernel package so we can avoid doing imports until\n"
     ]
    }
   ],
   "source": [
    "#补充缺失数据记录\n",
    "random_age=np.random.randint(29.699118 - 14.526497,29.699118 + 14.526497,size=891-714)\n",
    "titanic_df['Age'][np.isnan(titanic_df['Age'])] = random_age\n",
    "titanic_df['Embarked'].fillna('S',inplace=True)"
   ]
  },
  {
   "cell_type": "code",
   "execution_count": 8,
   "metadata": {},
   "outputs": [
    {
     "data": {
      "text/plain": [
       "Text(0,0.5,u'Count')"
      ]
     },
     "execution_count": 8,
     "metadata": {},
     "output_type": "execute_result"
    },
    {
     "data": {
      "image/png": "[encoded data removed]",
      "text/plain": [
       "<matplotlib.figure.Figure at 0xef5cfd0>"
      ]
     },
     "metadata": {},
     "output_type": "display_data"
    }
   ],
   "source": [
    "#查看数据补充后的年龄分布情况\n",
    "age_plot=titanic_df['Age'].hist(bins=40)\n",
    "age_plot.set_title('Post Age Distribution')\n",
    "age_plot.set_ylabel('Count')"
   ]
  },
  {
   "cell_type": "code",
   "execution_count": 9,
   "metadata": {
    "collapsed": true
   },
   "outputs": [],
   "source": [
    "titanic_df = titanic_df.drop(['Name', 'Ticket', 'Cabin'], axis = 1)"
   ]
  },
  {
   "cell_type": "markdown",
   "metadata": {},
   "source": [
    "- 数据分析过程"
   ]
  },
  {
   "cell_type": "code",
   "execution_count": 10,
   "metadata": {
    "scrolled": true
   },
   "outputs": [
    {
     "data": {
      "text/plain": [
       "Text(0.5,1,u'Total survival rate')"
      ]
     },
     "execution_count": 10,
     "metadata": {},
     "output_type": "execute_result"
    },
    {
     "data": {
      "image/png": "[encoded data removed]",
      "text/plain": [
       "<matplotlib.figure.Figure at 0xf033278>"
      ]
     },
     "metadata": {},
     "output_type": "display_data"
    }
   ],
   "source": [
    "#建立数据生还率和遇难率的饼图函数\n",
    "def pie_plot(data,title,label):\n",
    "    pie_plot=data['Survived'].value_counts().plot(kind='pie',autopct='%.2f%%',labels=label)\n",
    "    return pie_plot.set_title(title)\n",
    "#整体数据生还遇难比例饼图\n",
    "pie_plot(titanic_df,'Total survival rate',['Loss','Survived'])"
   ]
  },
  {
   "cell_type": "markdown",
   "metadata": {},
   "source": [
    "1.可视化整体生还率和遇难率，891名乘客中有38.38%的人生还了，61.62%的人遇难了。"
   ]
  },
  {
   "cell_type": "code",
   "execution_count": 11,
   "metadata": {
    "scrolled": true
   },
   "outputs": [
    {
     "data": {
      "text/plain": [
       "(Text(0,0.5,u'Count'), Text(0.5,1,u'Survived/Loss Counts by Pclass'))"
      ]
     },
     "execution_count": 11,
     "metadata": {},
     "output_type": "execute_result"
    },
    {
     "data": {
      "image/png": "[encoded data removed]",
      "text/plain": [
       "<matplotlib.figure.Figure at 0xf2d9ef0>"
      ]
     },
     "metadata": {},
     "output_type": "display_data"
    }
   ],
   "source": [
    "#建立根据key查看死亡遇难人数的柱状图函数\n",
    "def by_variable(key):\n",
    "    plot=titanic_df.groupby([key,'Survived'])['Survived'].count().unstack().plot(kind='bar',stacked='True')\n",
    "    return plot.set_ylabel('Count'),plot.set_title('Survived/Loss Counts by ' +key)\n",
    "#根据船票等级查看生还和遇难人数\n",
    "by_variable('Pclass')"
   ]
  },
  {
   "cell_type": "code",
   "execution_count": 12,
   "metadata": {},
   "outputs": [
    {
     "data": {
      "text/plain": [
       "Text(0.5,1,u'Survival rate of Pclass3')"
      ]
     },
     "execution_count": 12,
     "metadata": {},
     "output_type": "execute_result"
    },
    {
     "data": {
      "image/png": "[encoded data removed]",
      "text/plain": [
       "<matplotlib.figure.Figure at 0x1025d9e8>"
      ]
     },
     "metadata": {},
     "output_type": "display_data"
    }
   ],
   "source": [
    "#根据船票等级进行分类，绘制生还遇难率饼图\n",
    "pclass1=titanic_df[titanic_df['Pclass']==1]\n",
    "pclass2=titanic_df[titanic_df['Pclass']==2]\n",
    "pclass3=titanic_df[titanic_df['Pclass']==3]\n",
    "plt.figure(figsize=(15,4))\n",
    " \n",
    "plt.subplot(131)\n",
    "pie_plot(pclass1,'Survival rate of Pclass1',['Survived','Loss'])\n",
    "plt.subplot(132)  \n",
    "pie_plot(pclass2,'Survival rate of Pclass2',['Loss','Survived'])\n",
    "plt.subplot(133) \n",
    "pie_plot(pclass3,'Survival rate of Pclass3',['Loss','Survived'])"
   ]
  },
  {
   "cell_type": "markdown",
   "metadata": {},
   "source": [
    "2.船票等级与生还率的关系  \n",
    "a.查看生还和遇难人数发现，持一等船票的乘客中，生还人数高于遇难人数；持二等船票的乘客中，遇难人数略高于生还人数；持三等船票的乘客中，遇难人数远高于生还人数。  \n",
    "b.对三类持票乘客生还遇难率可视化后发现，持一等船票的乘客中，生还率最高，为62.96%，远高于整体生还率38.38%；持二等船票的乘客中，生还率居中，为47.28%，高于整体生还率38.38%；持三等船票的乘客中，生还率最低，为24.24%，低于整体生还率38.38%。"
   ]
  },
  {
   "cell_type": "code",
   "execution_count": 13,
   "metadata": {},
   "outputs": [
    {
     "data": {
      "text/plain": [
       "(Text(0,0.5,u'Count'), Text(0.5,1,u'Survived/Loss Counts by Sex'))"
      ]
     },
     "execution_count": 13,
     "metadata": {},
     "output_type": "execute_result"
    },
    {
     "data": {
      "image/png": "[encoded data removed]",
      "text/plain": [
       "<matplotlib.figure.Figure at 0xf190c88>"
      ]
     },
     "metadata": {},
     "output_type": "display_data"
    }
   ],
   "source": [
    "#根据性别查看生还和遇难人数\n",
    "by_variable('Sex')"
   ]
  },
  {
   "cell_type": "code",
   "execution_count": 14,
   "metadata": {
    "scrolled": false
   },
   "outputs": [
    {
     "data": {
      "text/plain": [
       "Text(0.5,1,u'Survival rate of male')"
      ]
     },
     "execution_count": 14,
     "metadata": {},
     "output_type": "execute_result"
    },
    {
     "data": {
      "image/png": "[encoded data removed]",
      "text/plain": [
       "<matplotlib.figure.Figure at 0x1074e828>"
      ]
     },
     "metadata": {},
     "output_type": "display_data"
    }
   ],
   "source": [
    "#根据性别进行分类，绘制生还遇难率饼图\n",
    "female=titanic_df[titanic_df['Sex']=='female']\n",
    "male=titanic_df[titanic_df['Sex']=='male']\n",
    "plt.figure(figsize=(9,4))\n",
    " \n",
    "plt.subplot(121)\n",
    "pie_plot(female,'Survival rate of female',['Survived','Loss'])\n",
    "plt.subplot(122)  \n",
    "pie_plot(male,'Survival rate of male',['Loss','Survived'])"
   ]
  },
  {
   "cell_type": "markdown",
   "metadata": {},
   "source": [
    "3.性别与生还率的关系  \n",
    "a.根据性别查看生还和遇难人数发现，女性乘客中，生还人数高于遇难人数；男性乘客中，遇难人数远高于生还人数；且女性生还人数高于男性生还人数。  \n",
    "b.对男女乘客生还遇难率可视化后发现，女性乘客的生还率为74.2%，高于整体生还率38.38%，且远高于男性乘客18.89%的生还率。"
   ]
  },
  {
   "cell_type": "code",
   "execution_count": 15,
   "metadata": {
    "scrolled": true
   },
   "outputs": [
    {
     "data": {
      "text/plain": [
       "(Text(0,0.5,u'Count'), Text(0.5,1,u'Survived/Loss Counts by Embarked'))"
      ]
     },
     "execution_count": 15,
     "metadata": {},
     "output_type": "execute_result"
    },
    {
     "data": {
      "image/png": "[encoded data removed]",
      "text/plain": [
       "<matplotlib.figure.Figure at 0x104b4e80>"
      ]
     },
     "metadata": {},
     "output_type": "display_data"
    }
   ],
   "source": [
    "#根据登船港查看生还和遇难人数\n",
    "by_variable('Embarked')"
   ]
  },
  {
   "cell_type": "code",
   "execution_count": 16,
   "metadata": {
    "scrolled": true
   },
   "outputs": [
    {
     "data": {
      "text/plain": [
       "Text(0.5,1,u'Survival rate of Southampton')"
      ]
     },
     "execution_count": 16,
     "metadata": {},
     "output_type": "execute_result"
    },
    {
     "data": {
      "image/png": "[encoded data removed]",
      "text/plain": [
       "<matplotlib.figure.Figure at 0xf0b6668>"
      ]
     },
     "metadata": {},
     "output_type": "display_data"
    }
   ],
   "source": [
    "#根据登船港口进行分类，绘制生还遇难率饼图\n",
    "Cherbourg=titanic_df[titanic_df['Embarked']=='C']\n",
    "Queenstown=titanic_df[titanic_df['Embarked']=='Q']\n",
    "Southampton=titanic_df[titanic_df['Embarked']=='S']\n",
    "plt.figure(figsize=(15,4))\n",
    "\n",
    "plt.subplot(131)\n",
    "pie_plot(Cherbourg,'Survival rate of Cherbourg',['Survived','Loss'])\n",
    "plt.subplot(132)  \n",
    "pie_plot(Queenstown,'Survival rate of Queenstown',['Loss','Survived'])\n",
    "plt.subplot(133) \n",
    "pie_plot(Southampton,'Survival rate of Southampton',['Loss','Survived'])"
   ]
  },
  {
   "cell_type": "markdown",
   "metadata": {},
   "source": [
    "4.登船港口与生还率的关系  \n",
    "a.从登船港口来看，由Cherbourg登船的乘客中，生还人数高于遇难人数；由Queenstown和Southampton登船的乘客中，遇难人数均高于生还人数。  \n",
    "b.由Cherbourg登船的乘客，生还率最高，为55.36%，由Queenstown和Southampton登船的乘客生还率分别为38.96%和33.7%。"
   ]
  },
  {
   "cell_type": "code",
   "execution_count": 17,
   "metadata": {
    "scrolled": true
   },
   "outputs": [
    {
     "data": {
      "text/plain": [
       "Survived\n",
       "0    AxesSubplot(0.125,0.125;0.775x0.755)\n",
       "1    AxesSubplot(0.125,0.125;0.775x0.755)\n",
       "Name: Age, dtype: object"
      ]
     },
     "execution_count": 17,
     "metadata": {},
     "output_type": "execute_result"
    },
    {
     "data": {
      "image/png": "[encoded data removed]",
      "text/plain": [
       "<matplotlib.figure.Figure at 0x10b57898>"
      ]
     },
     "metadata": {},
     "output_type": "display_data"
    }
   ],
   "source": [
    "#根据是否生还进行分类，绘制年龄分布直方图\n",
    "titanic_df.groupby('Survived')['Age'].hist(bins=40)"
   ]
  },
  {
   "cell_type": "code",
   "execution_count": 18,
   "metadata": {
    "scrolled": true
   },
   "outputs": [
    {
     "name": "stdout",
     "output_type": "stream",
     "text": [
      "Age_group\n",
      "children           0.593750\n",
      "juveniles          0.400000\n",
      "adults             0.367376\n",
      "senior citizens    0.227273\n",
      "Name: Survived, dtype: float64\n"
     ]
    },
    {
     "data": {
      "text/plain": [
       "Text(0,0.5,u'survival rate ')"
      ]
     },
     "execution_count": 18,
     "metadata": {},
     "output_type": "execute_result"
    },
    {
     "data": {
      "image/png": "[encoded data removed]",
      "text/plain": [
       "<matplotlib.figure.Figure at 0x116b3630>"
      ]
     },
     "metadata": {},
     "output_type": "display_data"
    }
   ],
   "source": [
    "#按年龄段进行分组，并依据分组创建'Age_group'列\n",
    "bins=[0,10,18,60,80]\n",
    "titanic_df['Age_group']=pd.cut(titanic_df['Age'],bins, labels=['children', 'juveniles', 'adults','senior citizens'])\n",
    "#对比不同Age_group的生还率\n",
    "survival_rate_by_age = titanic_df.groupby('Age_group')['Survived'].mean()\n",
    "print survival_rate_by_age\n",
    "plot_by_age=survival_rate_by_age.plot(kind='bar')\n",
    "plot_by_age.set_title('Survival rate by age_group')\n",
    "plot_by_age.set_ylabel('survival rate ')"
   ]
  },
  {
   "cell_type": "markdown",
   "metadata": {},
   "source": [
    "5.年龄与生还率的关系  \n",
    "a.根据生还和遇难乘客的年龄分布图开看，生还和遇难乘客的年龄分布上存在较明显的不同，可做进一步探索。  \n",
    "b.船上乘客的年龄范围为0.42~80岁，根据这个情况，将乘客按年龄段分为4组，分别是儿童children（0~10岁）, 青少年juveniles（10+~18岁）, 成年人adults（18+~60岁）,老年人senior citizens（60+~80岁），通过对这4组人员的生还率比较，儿童最高，为59.38%，青少年次之，为40%，成年人第三，为36.74%，老年人最低，仅有22.73%。 "
   ]
  },
  {
   "cell_type": "markdown",
   "metadata": {},
   "source": [
    "- 结论    \n",
    "1.在891名乘客中，有38.38%的人生还了，61.62%的人遇难了。  \n",
    "2.持一等船票的乘客生还率高于持二等船票的乘客，而持二等船票的乘客又高于持三等船票的乘客。  \n",
    "3.女性生还率远高于男性。  由Cherbourg登船的乘客，生还率最高  \n",
    "4.由Cherbourg登船的乘客，生还率高于由Southampton和Queenstown登船的乘客。  \n",
    "5.在儿童，青少年，成年人和老年人这4个年龄组中，生还率从高到低依次为儿童，青少年，成年人和老年人。  \n",
    "6.存在的不足  \n",
    "a.由于条件限制，对年龄缺失记录的补充采取方式较为简单，可能会对数据分析结果产生一些影响。  \n",
    "b.由于对python可视化代了解不足，数据可视化呈现的效果不够美观。  \n",
    "c.没有对其他变量，如Fare,SibSp等进行探索。  \n",
    "希望在对数据分析理论及Python的使用有进一步认知以后可以对该项目进行进一步探索，改进以上不足。  \n",
    "\n",
    "\n",
    "参考资料：  \n",
    "1.https://pandas.pydata.org/pandas-docs/stable/generated/pandas.cut.html  \n",
    "2.https://matplotlib.org/api/pyplot_api.html  \n",
    "3.http://pandas.pydata.org/pandas-docs/stable/generated/pandas.DataFrame.fillna.html  \n",
    "4.http://pandas.pydata.org/pandas-docs/stable/generated/pandas.Series.value_counts.html\n"
   ]
  }
 ],
 "metadata": {
  "kernelspec": {
   "display_name": "Python 2",
   "language": "python",
   "name": "python2"
  },
  "language_info": {
   "codemirror_mode": {
    "name": "ipython",
    "version": 2
   },
   "file_extension": ".py",
   "mimetype": "text/x-python",
   "name": "python",
   "nbconvert_exporter": "python",
   "pygments_lexer": "ipython2",
   "version": "2.7.14"
  }
 },
 "nbformat": 4,
 "nbformat_minor": 2
}
